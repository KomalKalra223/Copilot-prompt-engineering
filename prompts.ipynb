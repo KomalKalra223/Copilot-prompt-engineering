{
 "cells": [
  {
   "cell_type": "code",
   "execution_count": 2,
   "id": "4866a97a",
   "metadata": {},
   "outputs": [
    {
     "name": "stdout",
     "output_type": "stream",
     "text": [
      "Here is the list of emotions expressed by the writer:\n",
      "\n",
      "gratitude, happiness, relief, trust, satisfaction\n"
     ]
    }
   ],
   "source": [
    "from ollama import Client\n",
    "\n",
    "lamp_review = \"\"\"\n",
    "Needed a nice lamp for my bedroom, and this one had\n",
    "additional storage and not too high of a price point.\n",
    "Got it fast.  The string to our lamp broke during the\n",
    "transit and the company happily sent over a new one.\n",
    "Came within a few days as well. It was easy to put\n",
    "together.  I had a missing part, so I contacted their\n",
    "support and they very quickly got me the missing piece!\n",
    "Lumina seems to me to be a great company that cares\n",
    "about their customers and products!!\n",
    "\"\"\"\n",
    "\n",
    "prompt = f\"\"\"\n",
    "Identify a list of emotions that the writer of the \\\n",
    "following review is expressing. Include no more than \\\n",
    "five items in the list. Format your answer as a list of \\\n",
    "lower-case words separated by commas.\n",
    "\n",
    "Review text: ```{lamp_review}```\n",
    "\"\"\"\n",
    "\n",
    "client = Client(host='http://localhost:11434')\n",
    "response = client.chat(\n",
    "    model='llama3.1:8b',\n",
    "    messages=[\n",
    "        {\n",
    "            'role': 'user',\n",
    "            'content': prompt\n",
    "        }\n",
    "    ]\n",
    ")\n",
    "print(response.message.content)"
   ]
  },
  {
   "cell_type": "code",
   "execution_count": 3,
   "id": "9f97ea3c",
   "metadata": {},
   "outputs": [
    {
     "name": "stderr",
     "output_type": "stream",
     "text": [
      "<>:3: SyntaxWarning: invalid escape sequence '\\ '\n",
      "<>:3: SyntaxWarning: invalid escape sequence '\\ '\n",
      "C:\\Users\\rc19223\\AppData\\Local\\Temp\\ipykernel_14344\\1282156026.py:3: SyntaxWarning: invalid escape sequence '\\ '\n",
      "  who loves it and takes it everywhere. It's soft and \\\n"
     ]
    },
    {
     "name": "stdout",
     "output_type": "stream",
     "text": [
      "Here is a summary of the review in 30 words or less:\n",
      "`Delivery was early and exceeded expectations. Soft, cute plush toy meets quality standards, but size may not be worth price.`\n"
     ]
    }
   ],
   "source": [
    "prod_review = \"\"\"\n",
    "Got this panda plush toy for my daughter's birthday, \\\n",
    "who loves it and takes it everywhere. It's soft and \\ \n",
    "super cute, and its face has a friendly look. It's \\ \n",
    "a bit small for what I paid though. I think there \\ \n",
    "might be other options that are bigger for the \\ \n",
    "same price. It arrived a day earlier than expected, \\ \n",
    "so I got to play with it myself before I gave it \\ \n",
    "to her.\n",
    "\"\"\"\n",
    "prompt = f\"\"\"\n",
    "Your task is to generate a short summary of a product \\\n",
    "review from an ecommerce site. \n",
    "\n",
    "Summarize the review below, delimited by triple \n",
    "backticks, in at most 30 words and focus on aspects like delivery and quality. \n",
    "\n",
    "Review: ```{prod_review}```\n",
    "\"\"\"\n",
    "response = client.chat(\n",
    "    model='llama3.1:8b',\n",
    "    messages=[\n",
    "        {\n",
    "            'role': 'user',\n",
    "            'content': prompt\n",
    "        }\n",
    "    ]\n",
    ")\n",
    "print(response.message.content)"
   ]
  },
  {
   "cell_type": "code",
   "execution_count": 4,
   "id": "52de40df",
   "metadata": {},
   "outputs": [
    {
     "name": "stdout",
     "output_type": "stream",
     "text": [
      "Here is the list of product features mentioned in the review, formatted as a comma-separated list:\n",
      "\n",
      "Soft, super cute, friendly face, small size.\n",
      "\n",
      "Let me know if you'd like me to extract any other information from the review!\n",
      "Yes, the review contains one complaint:\n",
      "\n",
      "1. The plush toy is smaller than expected for the price paid.\n",
      "4\n",
      "Based on this review, one potential improvement for the product is:\n",
      "\n",
      "**Increase the size of the plush toy to provide better value for the price**\n",
      "\n",
      "The reviewer mentions that they think there might be other options that are bigger for the same price, implying that the current size is not meeting their expectations. By increasing the size of the plush toy, the manufacturer can offer a more substantial product that provides better value for customers, potentially leading to increased customer satisfaction and loyalty.\n"
     ]
    }
   ],
   "source": [
    "# Example 1: Extract product features\n",
    "prompt = f\"\"\"\n",
    "Extract a list of product features mentioned in the following review. \n",
    "Format your answer as a comma-separated list.\n",
    "\n",
    "Review: ```{prod_review}```\n",
    "\"\"\"\n",
    "\n",
    "response = client.chat(\n",
    "    model='llama3.1:8b',\n",
    "    messages=[{'role': 'user', 'content': prompt}]\n",
    ")\n",
    "print(response.message.content)\n",
    "\n",
    "# Example 2: Detect complaints\n",
    "prompt = f\"\"\"\n",
    "Does the following review contain any complaints? \n",
    "If yes, list them. If not, reply 'No complaints found.'\n",
    "\n",
    "Review: ```{prod_review}```\n",
    "\"\"\"\n",
    "\n",
    "response = client.chat(\n",
    "    model='llama3.1:8b',\n",
    "    messages=[{'role': 'user', 'content': prompt}]\n",
    ")\n",
    "print(response.message.content)\n",
    "\n",
    "# Example 3: Rate review positivity (1-5)\n",
    "prompt = f\"\"\"\n",
    "Rate the positivity of the following review on a scale from 1 (very negative) to 5 (very positive). \n",
    "Just return the number.\n",
    "\n",
    "Review: ```{prod_review}```\n",
    "\"\"\"\n",
    "\n",
    "response = client.chat(\n",
    "    model='llama3.1:8b',\n",
    "    messages=[{'role': 'user', 'content': prompt}]\n",
    ")\n",
    "print(response.message.content)\n",
    "\n",
    "# Example 4: Suggest improvements\n",
    "prompt = f\"\"\"\n",
    "Suggest one improvement for the product based on the following review.\n",
    "\n",
    "Review: ```{prod_review}```\n",
    "\"\"\"\n",
    "\n",
    "response = client.chat(\n",
    "    model='llama3.1:8b',\n",
    "    messages=[{'role': 'user', 'content': prompt}]\n",
    ")\n",
    "print(response.message.content)"
   ]
  },
  {
   "cell_type": "code",
   "execution_count": null,
   "id": "33572039",
   "metadata": {},
   "outputs": [],
   "source": []
  }
 ],
 "metadata": {
  "kernelspec": {
   "display_name": "Python 3",
   "language": "python",
   "name": "python3"
  },
  "language_info": {
   "codemirror_mode": {
    "name": "ipython",
    "version": 3
   },
   "file_extension": ".py",
   "mimetype": "text/x-python",
   "name": "python",
   "nbconvert_exporter": "python",
   "pygments_lexer": "ipython3",
   "version": "3.13.6"
  }
 },
 "nbformat": 4,
 "nbformat_minor": 5
}
