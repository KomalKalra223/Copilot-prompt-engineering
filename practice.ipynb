{
 "cells": [
  {
   "cell_type": "code",
   "execution_count": 1,
   "id": "36e7e0ed",
   "metadata": {},
   "outputs": [
    {
     "name": "stdout",
     "output_type": "stream",
     "text": [
      "Collecting ollama\n",
      "  Downloading ollama-0.5.3-py3-none-any.whl.metadata (4.3 kB)\n",
      "Collecting httpx>=0.27 (from ollama)\n",
      "  Downloading httpx-0.28.1-py3-none-any.whl.metadata (7.1 kB)\n",
      "Collecting pydantic>=2.9 (from ollama)\n",
      "  Downloading pydantic-2.11.7-py3-none-any.whl.metadata (67 kB)\n",
      "Collecting anyio (from httpx>=0.27->ollama)\n",
      "  Downloading anyio-4.10.0-py3-none-any.whl.metadata (4.0 kB)\n",
      "Collecting certifi (from httpx>=0.27->ollama)\n",
      "  Downloading certifi-2025.8.3-py3-none-any.whl.metadata (2.4 kB)\n",
      "Collecting httpcore==1.* (from httpx>=0.27->ollama)\n",
      "  Downloading httpcore-1.0.9-py3-none-any.whl.metadata (21 kB)\n",
      "Collecting idna (from httpx>=0.27->ollama)\n",
      "  Downloading idna-3.10-py3-none-any.whl.metadata (10 kB)\n",
      "Collecting h11>=0.16 (from httpcore==1.*->httpx>=0.27->ollama)\n",
      "  Downloading h11-0.16.0-py3-none-any.whl.metadata (8.3 kB)\n",
      "Collecting annotated-types>=0.6.0 (from pydantic>=2.9->ollama)\n",
      "  Downloading annotated_types-0.7.0-py3-none-any.whl.metadata (15 kB)\n",
      "Collecting pydantic-core==2.33.2 (from pydantic>=2.9->ollama)\n",
      "  Downloading pydantic_core-2.33.2-cp313-cp313-win_amd64.whl.metadata (6.9 kB)\n",
      "Collecting typing-extensions>=4.12.2 (from pydantic>=2.9->ollama)\n",
      "  Downloading typing_extensions-4.14.1-py3-none-any.whl.metadata (3.0 kB)\n",
      "Collecting typing-inspection>=0.4.0 (from pydantic>=2.9->ollama)\n",
      "  Downloading typing_inspection-0.4.1-py3-none-any.whl.metadata (2.6 kB)\n",
      "Collecting sniffio>=1.1 (from anyio->httpx>=0.27->ollama)\n",
      "  Downloading sniffio-1.3.1-py3-none-any.whl.metadata (3.9 kB)\n",
      "Downloading ollama-0.5.3-py3-none-any.whl (13 kB)\n",
      "Downloading httpx-0.28.1-py3-none-any.whl (73 kB)\n",
      "Downloading httpcore-1.0.9-py3-none-any.whl (78 kB)\n",
      "Downloading h11-0.16.0-py3-none-any.whl (37 kB)\n",
      "Downloading pydantic-2.11.7-py3-none-any.whl (444 kB)\n",
      "Downloading pydantic_core-2.33.2-cp313-cp313-win_amd64.whl (2.0 MB)\n",
      "   ---------------------------------------- 0.0/2.0 MB ? eta -:--:--\n",
      "   ---------------------------------------- 0.0/2.0 MB ? eta -:--:--\n",
      "   ----- ---------------------------------- 0.3/2.0 MB ? eta -:--:--\n",
      "   ----- ---------------------------------- 0.3/2.0 MB ? eta -:--:--\n",
      "   ----- ---------------------------------- 0.3/2.0 MB ? eta -:--:--\n",
      "   ----- ---------------------------------- 0.3/2.0 MB ? eta -:--:--\n",
      "   ---------- ----------------------------- 0.5/2.0 MB 353.3 kB/s eta 0:00:05\n",
      "   ---------------- ----------------------- 0.8/2.0 MB 529.8 kB/s eta 0:00:03\n",
      "   ---------------- ----------------------- 0.8/2.0 MB 529.8 kB/s eta 0:00:03\n",
      "   --------------------- ------------------ 1.0/2.0 MB 589.9 kB/s eta 0:00:02\n",
      "   --------------------- ------------------ 1.0/2.0 MB 589.9 kB/s eta 0:00:02\n",
      "   -------------------------- ------------- 1.3/2.0 MB 595.9 kB/s eta 0:00:02\n",
      "   -------------------------------- ------- 1.6/2.0 MB 642.0 kB/s eta 0:00:01\n",
      "   -------------------------------- ------- 1.6/2.0 MB 642.0 kB/s eta 0:00:01\n",
      "   ------------------------------------- -- 1.8/2.0 MB 633.5 kB/s eta 0:00:01\n",
      "   ------------------------------------- -- 1.8/2.0 MB 633.5 kB/s eta 0:00:01\n",
      "   ---------------------------------------- 2.0/2.0 MB 596.7 kB/s  0:00:03\n",
      "Downloading annotated_types-0.7.0-py3-none-any.whl (13 kB)\n",
      "Downloading typing_extensions-4.14.1-py3-none-any.whl (43 kB)\n",
      "Downloading typing_inspection-0.4.1-py3-none-any.whl (14 kB)\n",
      "Downloading anyio-4.10.0-py3-none-any.whl (107 kB)\n",
      "Downloading idna-3.10-py3-none-any.whl (70 kB)\n",
      "Downloading sniffio-1.3.1-py3-none-any.whl (10 kB)\n",
      "Downloading certifi-2025.8.3-py3-none-any.whl (161 kB)\n",
      "Installing collected packages: typing-extensions, sniffio, idna, h11, certifi, annotated-types, typing-inspection, pydantic-core, httpcore, anyio, pydantic, httpx, ollama\n",
      "\n",
      "   --- ------------------------------------  1/13 [sniffio]\n",
      "   ------ ---------------------------------  2/13 [idna]\n",
      "   ------ ---------------------------------  2/13 [idna]\n",
      "   --------- ------------------------------  3/13 [h11]\n",
      "   --------------- ------------------------  5/13 [annotated-types]\n",
      "   --------------------- ------------------  7/13 [pydantic-core]\n",
      "   --------------------- ------------------  7/13 [pydantic-core]\n",
      "   ------------------------ ---------------  8/13 [httpcore]\n",
      "   ------------------------ ---------------  8/13 [httpcore]\n",
      "   ------------------------ ---------------  8/13 [httpcore]\n",
      "   --------------------------- ------------  9/13 [anyio]\n",
      "   --------------------------- ------------  9/13 [anyio]\n",
      "   --------------------------- ------------  9/13 [anyio]\n",
      "   --------------------------- ------------  9/13 [anyio]\n",
      "   ------------------------------ --------- 10/13 [pydantic]\n",
      "   ------------------------------ --------- 10/13 [pydantic]\n",
      "   ------------------------------ --------- 10/13 [pydantic]\n",
      "   ------------------------------ --------- 10/13 [pydantic]\n",
      "   ------------------------------ --------- 10/13 [pydantic]\n",
      "   ------------------------------ --------- 10/13 [pydantic]\n",
      "   ------------------------------ --------- 10/13 [pydantic]\n",
      "   ------------------------------ --------- 10/13 [pydantic]\n",
      "   ------------------------------ --------- 10/13 [pydantic]\n",
      "   ------------------------------ --------- 10/13 [pydantic]\n",
      "   ------------------------------ --------- 10/13 [pydantic]\n",
      "   ------------------------------ --------- 10/13 [pydantic]\n",
      "   --------------------------------- ------ 11/13 [httpx]\n",
      "   --------------------------------- ------ 11/13 [httpx]\n",
      "   --------------------------------- ------ 11/13 [httpx]\n",
      "   ------------------------------------ --- 12/13 [ollama]\n",
      "   ---------------------------------------- 13/13 [ollama]\n",
      "\n",
      "Successfully installed annotated-types-0.7.0 anyio-4.10.0 certifi-2025.8.3 h11-0.16.0 httpcore-1.0.9 httpx-0.28.1 idna-3.10 ollama-0.5.3 pydantic-2.11.7 pydantic-core-2.33.2 sniffio-1.3.1 typing-extensions-4.14.1 typing-inspection-0.4.1\n"
     ]
    }
   ],
   "source": [
    "!pip install ollama"
   ]
  },
  {
   "cell_type": "code",
   "execution_count": 4,
   "id": "d705b45c",
   "metadata": {},
   "outputs": [
    {
     "name": "stdout",
     "output_type": "stream",
     "text": [
      "The sky appears blue to us because of a phenomenon called scattering, which occurs when sunlight interacts with the tiny molecules of gases in the Earth's atmosphere. Here's what happens:\n",
      "\n",
      "1. **Sunlight enters the Earth's atmosphere**: When sunlight enters our atmosphere, it consists of a wide range of electromagnetic radiation, including all the colors of the visible spectrum.\n",
      "2. **Short wavelengths are scattered more**: As sunlight travels through the atmosphere, it encounters tiny molecules of gases such as nitrogen (N2) and oxygen (O2). These molecules are much smaller than the wavelength of light.\n",
      "3. **Scattering favors shorter wavelengths**: According to the principles of quantum mechanics, when light interacts with these small molecules, the shorter wavelengths (like blue and violet) are scattered in all directions more efficiently than the longer wavelengths (like red and orange).\n",
      "4. **Blue light reaches our eyes**: As a result of this scattering effect, the blue light is dispersed throughout the atmosphere and reaches our eyes from all parts of the sky.\n",
      "5. **Our brains perceive blue as the dominant color**: Since our eyes are sensitive to different wavelengths, we perceive the scattered blue light as the predominant color of the sky.\n",
      "\n",
      "This phenomenon is known as Rayleigh scattering, named after Lord Rayleigh, who first described it in 1871. It's not just limited to the daytime; even at sunrise and sunset, when the sun is low on the horizon, the blue light scatters more, making the sky appear blue again.\n",
      "\n",
      "Keep in mind that this explanation applies only to the visible spectrum of sunlight. The atmosphere also scatters other types of electromagnetic radiation, like ultraviolet (UV) and infrared (IR), but these are not visible to our eyes.\n",
      "\n",
      "So, there you have it! The sky appears blue because of the scattering of shorter wavelengths of light by tiny molecules in the Earth's atmosphere.\n",
      "The sky appears blue to us because of a phenomenon called scattering, which occurs when sunlight interacts with the tiny molecules of gases in the Earth's atmosphere. Here's what happens:\n",
      "\n",
      "1. **Sunlight enters the Earth's atmosphere**: When sunlight enters our atmosphere, it consists of a wide range of electromagnetic radiation, including all the colors of the visible spectrum.\n",
      "2. **Short wavelengths are scattered more**: As sunlight travels through the atmosphere, it encounters tiny molecules of gases such as nitrogen (N2) and oxygen (O2). These molecules are much smaller than the wavelength of light.\n",
      "3. **Scattering favors shorter wavelengths**: According to the principles of quantum mechanics, when light interacts with these small molecules, the shorter wavelengths (like blue and violet) are scattered in all directions more efficiently than the longer wavelengths (like red and orange).\n",
      "4. **Blue light reaches our eyes**: As a result of this scattering effect, the blue light is dispersed throughout the atmosphere and reaches our eyes from all parts of the sky.\n",
      "5. **Our brains perceive blue as the dominant color**: Since our eyes are sensitive to different wavelengths, we perceive the scattered blue light as the predominant color of the sky.\n",
      "\n",
      "This phenomenon is known as Rayleigh scattering, named after Lord Rayleigh, who first described it in 1871. It's not just limited to the daytime; even at sunrise and sunset, when the sun is low on the horizon, the blue light scatters more, making the sky appear blue again.\n",
      "\n",
      "Keep in mind that this explanation applies only to the visible spectrum of sunlight. The atmosphere also scatters other types of electromagnetic radiation, like ultraviolet (UV) and infrared (IR), but these are not visible to our eyes.\n",
      "\n",
      "So, there you have it! The sky appears blue because of the scattering of shorter wavelengths of light by tiny molecules in the Earth's atmosphere.\n"
     ]
    }
   ],
   "source": [
    "from ollama import chat\n",
    "from ollama import ChatResponse\n",
    "\n",
    "response: ChatResponse = chat(model='llama3.1:8b', messages=[\n",
    "  {\n",
    "    'role': 'user',\n",
    "    'content': 'Why is the sky blue?',\n",
    "  },\n",
    "])\n",
    "print(response['message']['content'])\n",
    "# or access fields directly from the response object\n",
    "print(response.message.content)"
   ]
  },
  {
   "cell_type": "code",
   "execution_count": null,
   "id": "7011c1d7",
   "metadata": {},
   "outputs": [],
   "source": [
    "#i want to practice using ollama in a jupyter notebook\n",
    "#i want to practice prompts using ollama in a jupyter notebook\n",
    "#this is to check the github copilot completion panels which provides suggestions options "
   ]
  },
  {
   "cell_type": "code",
   "execution_count": 6,
   "id": "84e9b5e2",
   "metadata": {},
   "outputs": [
    {
     "name": "stdout",
     "output_type": "stream",
     "text": [
      "The sky appears blue because of a phenomenon called Rayleigh scattering, named after the British physicist Lord Rayleigh. Here's what happens:\n",
      "\n",
      "**Short answer:** When sunlight enters Earth's atmosphere, it encounters tiny molecules of gases such as nitrogen (N2) and oxygen (O2). These molecules scatter the light in all directions, but they scatter shorter (blue) wavelengths more than longer (red) wavelengths.\n",
      "\n",
      "**Longer explanation:**\n",
      "\n",
      "1. **Sunlight**: The sun emits a broad spectrum of electromagnetic radiation, including visible light, ultraviolet (UV) rays, and infrared (IR) radiation.\n",
      "2. **Atmospheric gases**: When sunlight enters the Earth's atmosphere, it encounters tiny molecules of gases like nitrogen (N2), oxygen (O2), and others.\n",
      "3. **Scattering**: These gas molecules scatter the incoming light in all directions due to their small size and random motion. This is known as Rayleigh scattering.\n",
      "4. **Wavelength dependence**: The key aspect of Rayleigh scattering is that it favors shorter wavelengths over longer ones. Blue light has a shorter wavelength (around 450-495 nanometers) compared to red light (around 620-750 nanometers).\n",
      "5. **Scattering effect**: When blue light encounters an atmospheric gas molecule, the molecule scatters the light in all directions, including towards our eyes.\n",
      "\n",
      "**Why does this make the sky appear blue?**\n",
      "\n",
      "The scattered blue light is distributed throughout the atmosphere and reaches our eyes from all parts of the sky. As a result, we see the sky as blue because of the increased scattering of shorter wavelengths (blue) over longer wavelengths (red).\n",
      "\n",
      "Keep in mind that during sunrise and sunset, when the sun is lower on the horizon, the light has to travel through more of the atmosphere to reach our eyes. This results in even more scattering, which favors longer wavelengths (reds and oranges), making the sky appear more reddish.\n",
      "\n",
      "There you have it! The blue color of the sky is a result of the scattering of sunlight by tiny molecules in the Earth's atmosphere.\n",
      "\n",
      "Do you have any other questions about this topic?\n"
     ]
    }
   ],
   "source": [
    "from ollama import Client\n",
    "client = Client(\n",
    "  host='http://localhost:11434',\n",
    "  headers={'x-some-header': 'some-value'}\n",
    ")\n",
    "response = client.chat(model='llama3.1:8b', messages=[\n",
    "  {\n",
    "    'role': 'user',\n",
    "    'content': 'Why is the sky blue?',\n",
    "  },\n",
    "])\n",
    "print(response.message.content)"
   ]
  },
  {
   "cell_type": "code",
   "execution_count": 12,
   "id": "6a20aaf6",
   "metadata": {},
   "outputs": [
    {
     "name": "stdout",
     "output_type": "stream",
     "text": [
      "models=[Model(model='llama3.1:8b', modified_at=datetime.datetime(2025, 8, 12, 6, 41, 4, 433634, tzinfo=TzInfo(UTC)), digest='46e0c10c039e019119339687c3c1757cc81b9da49709a3b3924863ba87ca666e', size=4920753328, details=ModelDetails(parent_model='', format='gguf', family='llama', families=['llama'], parameter_size='8.0B', quantization_level='Q4_K_M'))]\n"
     ]
    }
   ],
   "source": [
    "from ollama import Client\n",
    "\n",
    "client = Client(host='http://localhost:11434')\n",
    "models = client.list()\n",
    "print(models)"
   ]
  },
  {
   "cell_type": "code",
   "execution_count": 1,
   "id": "051e1fc1",
   "metadata": {},
   "outputs": [
    {
     "name": "stdout",
     "output_type": "stream",
     "text": [
      "The capital of France is Paris.\n"
     ]
    }
   ],
   "source": [
    "#i want to practice prompt engineering using ollama in a jupyter notebook\n",
    "from ollama import Client\n",
    "\n",
    "client = Client(host='http://localhost:11434')\n",
    "response = client.chat(model='llama3.1:8b', messages=[\n",
    "  {\n",
    "    'role': 'user',\n",
    "    'content': 'What is the capital of France?',\n",
    "  },\n",
    "])\n",
    "print(response.message.content)"
   ]
  },
  {
   "cell_type": "code",
   "execution_count": 7,
   "id": "ce7d9f24",
   "metadata": {},
   "outputs": [
    {
     "name": "stdout",
     "output_type": "stream",
     "text": [
      "Here is the list of emotions expressed by the writer:\n",
      "\n",
      "gratitude, satisfaction, trust, relief, appreciation\n"
     ]
    }
   ],
   "source": [
    "from ollama import Client\n",
    "\n",
    "lamp_review = \"\"\"\n",
    "Needed a nice lamp for my bedroom, and this one had\n",
    "additional storage and not too high of a price point.\n",
    "Got it fast.  The string to our lamp broke during the\n",
    "transit and the company happily sent over a new one.\n",
    "Came within a few days as well. It was easy to put\n",
    "together.  I had a missing part, so I contacted their\n",
    "support and they very quickly got me the missing piece!\n",
    "Lumina seems to me to be a great company that cares\n",
    "about their customers and products!!\n",
    "\"\"\"\n",
    "\n",
    "prompt = f\"\"\"\n",
    "Identify a list of emotions that the writer of the \\\n",
    "following review is expressing. Include no more than \\\n",
    "five items in the list. Format your answer as a list of \\\n",
    "lower-case words separated by commas.\n",
    "\n",
    "Review text: ```{lamp_review}```\n",
    "\"\"\"\n",
    "\n",
    "client = Client(host='http://localhost:11434')\n",
    "response = client.chat(\n",
    "    model='llama3.1:8b',\n",
    "    messages=[\n",
    "        {\n",
    "            'role': 'user',\n",
    "            'content': prompt\n",
    "        }\n",
    "    ]\n",
    ")\n",
    "print(response.message.content)"
   ]
  },
  {
   "cell_type": "code",
   "execution_count": 14,
   "id": "638d9694",
   "metadata": {},
   "outputs": [
    {
     "name": "stderr",
     "output_type": "stream",
     "text": [
      "<>:3: SyntaxWarning: invalid escape sequence '\\ '\n",
      "<>:3: SyntaxWarning: invalid escape sequence '\\ '\n",
      "C:\\Users\\rc19223\\AppData\\Local\\Temp\\ipykernel_9320\\1282156026.py:3: SyntaxWarning: invalid escape sequence '\\ '\n",
      "  who loves it and takes it everywhere. It's soft and \\\n"
     ]
    },
    {
     "name": "stdout",
     "output_type": "stream",
     "text": [
      "`Product received ahead of schedule, soft and cute plush toy meets expectations, but slightly small for price paid, quality is good.`\n"
     ]
    }
   ],
   "source": [
    "prod_review = \"\"\"\n",
    "Got this panda plush toy for my daughter's birthday, \\\n",
    "who loves it and takes it everywhere. It's soft and \\ \n",
    "super cute, and its face has a friendly look. It's \\ \n",
    "a bit small for what I paid though. I think there \\ \n",
    "might be other options that are bigger for the \\ \n",
    "same price. It arrived a day earlier than expected, \\ \n",
    "so I got to play with it myself before I gave it \\ \n",
    "to her.\n",
    "\"\"\"\n",
    "prompt = f\"\"\"\n",
    "Your task is to generate a short summary of a product \\\n",
    "review from an ecommerce site. \n",
    "\n",
    "Summarize the review below, delimited by triple \n",
    "backticks, in at most 30 words and focus on aspects like delivery and quality. \n",
    "\n",
    "Review: ```{prod_review}```\n",
    "\"\"\"\n",
    "response = client.chat(\n",
    "    model='llama3.1:8b',\n",
    "    messages=[\n",
    "        {\n",
    "            'role': 'user',\n",
    "            'content': prompt\n",
    "        }\n",
    "    ]\n",
    ")\n",
    "print(response.message.content)"
   ]
  },
  {
   "cell_type": "code",
   "execution_count": null,
   "id": "b3d08b5b",
   "metadata": {},
   "outputs": [],
   "source": []
  }
 ],
 "metadata": {
  "kernelspec": {
   "display_name": "Python 3",
   "language": "python",
   "name": "python3"
  },
  "language_info": {
   "codemirror_mode": {
    "name": "ipython",
    "version": 3
   },
   "file_extension": ".py",
   "mimetype": "text/x-python",
   "name": "python",
   "nbconvert_exporter": "python",
   "pygments_lexer": "ipython3",
   "version": "3.13.6"
  }
 },
 "nbformat": 4,
 "nbformat_minor": 5
}
